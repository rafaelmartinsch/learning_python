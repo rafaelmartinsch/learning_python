{
 "cells": [
  {
   "cell_type": "code",
   "execution_count": 1,
   "id": "9db1b365-cd66-46f5-9572-cd1101e305db",
   "metadata": {},
   "outputs": [
    {
     "name": "stdout",
     "output_type": "stream",
     "text": [
      "maria\n",
      "jose\n",
      "joao\n",
      "marta\n",
      "joao\n",
      "maria\n",
      "jose\n",
      "marta\n"
     ]
    }
   ],
   "source": [
    "conjunto_alunos = set([\"joao\", \"maria\", \"jose\", \"marta\"])\n",
    "\n",
    "for aluno in conjunto_alunos :\n",
    "    print(aluno)\n",
    "\n",
    "\n",
    "tupla_alunos = (\"joao\", \"maria\", \"jose\", \"marta\")\n",
    "\n",
    "for aluno in tupla_alunos:\n",
    "    print(aluno)\n"
   ]
  },
  {
   "cell_type": "code",
   "execution_count": 1,
   "id": "c332cb62-7f09-4c13-923e-e3aaa11d9a0f",
   "metadata": {},
   "outputs": [
    {
     "name": "stdout",
     "output_type": "stream",
     "text": [
      "Esse item não é camarão!! Cadê o Camarão?!\n"
     ]
    },
    {
     "ename": "TypeError",
     "evalue": "'list' object is not callable",
     "output_type": "error",
     "traceback": [
      "\u001b[1;31m---------------------------------------------------------------------------\u001b[0m",
      "\u001b[1;31mTypeError\u001b[0m                                 Traceback (most recent call last)",
      "Cell \u001b[1;32mIn[1], line 14\u001b[0m\n\u001b[0;32m     12\u001b[0m \u001b[38;5;28;01mwhile\u001b[39;00m item \u001b[38;5;241m!=\u001b[39m \u001b[38;5;124m'\u001b[39m\u001b[38;5;124mcamarão\u001b[39m\u001b[38;5;124m'\u001b[39m:\n\u001b[0;32m     13\u001b[0m \t\u001b[38;5;28mprint\u001b[39m(\u001b[38;5;124m'\u001b[39m\u001b[38;5;124mEsse item não é camarão!! Cadê o Camarão?!\u001b[39m\u001b[38;5;124m'\u001b[39m)\n\u001b[1;32m---> 14\u001b[0m \titem \u001b[38;5;241m=\u001b[39m \u001b[43mcardapio\u001b[49m\u001b[43m(\u001b[49m\u001b[38;5;241;43m0\u001b[39;49m\u001b[43m)\u001b[49m\n",
      "\u001b[1;31mTypeError\u001b[0m: 'list' object is not callable"
     ]
    }
   ],
   "source": [
    "# Estruturas de repetição - while\n",
    "\n",
    "cardapio = ['frango a kiev',\n",
    "\t\t'filet',\n",
    "\t\t'bolinho de bacalhau',\n",
    "\t\t'batata frita',\n",
    "\t\t'camarão',\n",
    "\t\t'costela ao molho barbecue']\n",
    "\n",
    "item = cardapio.pop(0)\n",
    "\n",
    "while item != 'camarão':\n",
    "\tprint('Esse item não é camarão!! Cadê o Camarão?!')\n",
    "\titem = cardapio(0)\n",
    "\n"
   ]
  },
  {
   "cell_type": "code",
   "execution_count": 4,
   "id": "118e1ee4-f746-476c-ae71-1b20f78c2dd5",
   "metadata": {},
   "outputs": [
    {
     "name": "stdout",
     "output_type": "stream",
     "text": [
      "8 não é 5\n",
      "7 não é 5\n",
      "7 não é 5\n",
      "6 não é 5\n",
      "8 não é 5\n",
      "2 não é 5\n",
      "1 não é 5\n"
     ]
    }
   ],
   "source": [
    "from random import randint\n",
    "numero = randint(1,10)\n",
    "\n",
    "while numero != 5:\n",
    "    print(f'{numero} não é 5')\n",
    "    numero = randint(1,10)"
   ]
  },
  {
   "cell_type": "code",
   "execution_count": null,
   "id": "ae4e0426-6cbc-465b-91b8-115df5e587e7",
   "metadata": {},
   "outputs": [],
   "source": []
  },
  {
   "cell_type": "code",
   "execution_count": null,
   "id": "ed2f5088-73b3-4a6b-a4ef-ff0d604da204",
   "metadata": {},
   "outputs": [],
   "source": []
  }
 ],
 "metadata": {
  "kernelspec": {
   "display_name": "Python 3 (ipykernel)",
   "language": "python",
   "name": "python3"
  },
  "language_info": {
   "codemirror_mode": {
    "name": "ipython",
    "version": 3
   },
   "file_extension": ".py",
   "mimetype": "text/x-python",
   "name": "python",
   "nbconvert_exporter": "python",
   "pygments_lexer": "ipython3",
   "version": "3.12.4"
  }
 },
 "nbformat": 4,
 "nbformat_minor": 5
}
