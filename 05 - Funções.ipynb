{
 "cells": [
  {
   "cell_type": "markdown",
   "id": "efc6784d-7e01-450c-b794-fb86995e1028",
   "metadata": {},
   "source": [
    "# Funções\n",
    "Funções são blocos de códigos reutilizáveis, uma solução para quando precisamos reutilizar trexos de código mais de uma vez. Ter apenas um código para resolver um problema é mais produtivo do que ter varios locais com a mesma lógica, em caso de manutenção teria que fazer alteração em todos os locais, no caso da função irá fazer apenas uma vez. "
   ]
  },
  {
   "cell_type": "markdown",
   "id": "771d6aab-5d0a-45d3-ab87-db9add0945ee",
   "metadata": {
    "jp-MarkdownHeadingCollapsed": true
   },
   "source": [
    "### Características das funções"
   ]
  },
  {
   "cell_type": "markdown",
   "id": "100ff79d-a0c7-42e2-910f-351cb07e91c5",
   "metadata": {},
   "source": [
    "* Comando def define a função\n",
    "* podem receber parâmetros definidos nos parenteses, dados para serem processados na função\n",
    "* Retorna o resultado de um processamento com o coando return;\n",
    "* Ou simplesmente realiza uma ação sem necessáriamente retornar algo;"
   ]
  },
  {
   "cell_type": "code",
   "execution_count": 5,
   "id": "a84f9f13-f5c6-4962-9a0f-99f7d9ffb46f",
   "metadata": {},
   "outputs": [],
   "source": [
    "def funcaoSoma(parametro1, parametro2):\n",
    "    return parametro1+parametro2"
   ]
  },
  {
   "cell_type": "code",
   "execution_count": 6,
   "id": "4a889fd3-1c74-49c7-8b49-0c5433192433",
   "metadata": {},
   "outputs": [
    {
     "data": {
      "text/plain": [
       "5"
      ]
     },
     "execution_count": 6,
     "metadata": {},
     "output_type": "execute_result"
    }
   ],
   "source": [
    "#Chamada da função passando o parametro\n",
    "\n",
    "soma =  funcaoSoma(2,3)\n",
    "soma"
   ]
  },
  {
   "cell_type": "code",
   "execution_count": 19,
   "id": "7ccc1bb6-a129-4054-997d-6060d35bfce5",
   "metadata": {},
   "outputs": [],
   "source": [
    "#podemos especificar valores padrão para a função\n",
    "\n",
    "def dividir(dividendo, divisor=2):\n",
    "    divisao = dividendo/divisor\n",
    "    return divisao"
   ]
  },
  {
   "cell_type": "code",
   "execution_count": 20,
   "id": "652d2f7e-3cce-4ba6-9546-d6ca9a364a0f",
   "metadata": {},
   "outputs": [
    {
     "name": "stdout",
     "output_type": "stream",
     "text": [
      "2.0\n"
     ]
    }
   ],
   "source": [
    "#chamada direta da função passando os dois parametros\n",
    "print(dividir(10,5))"
   ]
  },
  {
   "cell_type": "code",
   "execution_count": 21,
   "id": "c33697de-5584-412d-acf7-97a64975c970",
   "metadata": {},
   "outputs": [
    {
     "name": "stdout",
     "output_type": "stream",
     "text": [
      "1.0\n"
     ]
    }
   ],
   "source": [
    "#chamada da função passando um parâmetro \n",
    "print(dividir(2))"
   ]
  },
  {
   "cell_type": "code",
   "execution_count": 22,
   "id": "1918eb9c-128a-4c63-91f7-98b65aa4f966",
   "metadata": {},
   "outputs": [
    {
     "name": "stdout",
     "output_type": "stream",
     "text": [
      "5.0\n"
     ]
    }
   ],
   "source": [
    "#posso especificar o parametro\n",
    "print(dividir(dividendo=10, divisor=2))"
   ]
  },
  {
   "cell_type": "markdown",
   "id": "9154d594-984a-42bf-b43c-4ff2b616ef06",
   "metadata": {},
   "source": [
    "Função sem retoro e sem parâmetro "
   ]
  },
  {
   "cell_type": "code",
   "execution_count": 9,
   "id": "a6d17b2f-3c90-4de9-9ed9-73e9d3db5589",
   "metadata": {},
   "outputs": [],
   "source": [
    "#Exemplo de função que não retorna valor e não recebe parametro\n",
    "def Saudacao():\n",
    "    print(\"Olá, eu sou uma função\")"
   ]
  },
  {
   "cell_type": "code",
   "execution_count": 13,
   "id": "ab167079-dee4-4294-a0d2-3b9901c78409",
   "metadata": {},
   "outputs": [
    {
     "name": "stdout",
     "output_type": "stream",
     "text": [
      "Olá, eu sou uma função\n"
     ]
    }
   ],
   "source": [
    "#chamando a função:\n",
    "Saudacao()"
   ]
  },
  {
   "cell_type": "markdown",
   "id": "fecd4841-6082-4975-8c0a-59fbc95a3fa1",
   "metadata": {},
   "source": [
    "**Multiplos retorno**\n"
   ]
  },
  {
   "cell_type": "code",
   "execution_count": 37,
   "id": "faef34c0-cbf9-454e-a914-027460992a79",
   "metadata": {},
   "outputs": [
    {
     "name": "stdout",
     "output_type": "stream",
     "text": [
      "100 1000\n",
      "(100, 1000)\n"
     ]
    }
   ],
   "source": [
    "def calcula_quadrado_cubo(x):\n",
    "    return x**2, x**3\n",
    "\n",
    "quadrado, cubo = calcula_quadrado_cubo(10)\n",
    "print(quadrado, cubo)\n",
    "\n",
    "#Ou armazenar como tupla\n",
    "tupla =  calcula_quadrado_cubo(10)\n",
    "print(tupla)"
   ]
  },
  {
   "cell_type": "markdown",
   "id": "d2e9d4fe-013f-4537-9432-a6e572b2a888",
   "metadata": {
    "jp-MarkdownHeadingCollapsed": true
   },
   "source": [
    "### Chamada de função dentro de uma função e Função recursiva"
   ]
  },
  {
   "cell_type": "markdown",
   "id": "9f2f27f5-cf8c-40ba-bb7e-204d655e2d73",
   "metadata": {},
   "source": [
    "Uma função pode chamar outra função ou pode chamar ela mesmo o que chamamos de função recursiva"
   ]
  },
  {
   "cell_type": "markdown",
   "id": "57ce5eaf-04ce-4f12-8c8a-84c8c13be3e4",
   "metadata": {},
   "source": [
    "**chamada de outra função**"
   ]
  },
  {
   "cell_type": "code",
   "execution_count": 30,
   "id": "88613d13-0c9d-4f81-81dd-8873832f9986",
   "metadata": {},
   "outputs": [],
   "source": [
    "def jurosSimples(valor, taxaJuros, meses):\n",
    "    juros = ((taxaJuros/100)*valor)*meses\n",
    "    valorFinal = valor+juros\n",
    "    imprimeDuasCasas(valorFinal)\n",
    "\n",
    "def imprimeDuasCasas(valor):\n",
    "    print(f\"Valor final é: {valor:.2f}\")"
   ]
  },
  {
   "cell_type": "code",
   "execution_count": 31,
   "id": "b491b1eb-78da-4c50-babd-4fe06f0ed39a",
   "metadata": {},
   "outputs": [
    {
     "name": "stdout",
     "output_type": "stream",
     "text": [
      "Valor final é: 120.00\n"
     ]
    }
   ],
   "source": [
    "jurosSimples(100, 10, 2)"
   ]
  },
  {
   "cell_type": "markdown",
   "id": "117172fa-c9a8-405e-8f4d-3b889c83763a",
   "metadata": {},
   "source": [
    "**recursividade**\n",
    "Uma função chama ela mesma"
   ]
  },
  {
   "cell_type": "code",
   "execution_count": 32,
   "id": "9ae5b8ac-24d4-4e68-85c6-24d3810e3a07",
   "metadata": {},
   "outputs": [],
   "source": [
    "def fatorial(x): \n",
    "    if x == 1:\n",
    "        return 1\n",
    "    else:\n",
    "        return x * fatorial(x - 1)"
   ]
  },
  {
   "cell_type": "code",
   "execution_count": 34,
   "id": "36f276ea-e684-47f0-a595-6c063a770140",
   "metadata": {},
   "outputs": [
    {
     "name": "stdin",
     "output_type": "stream",
     "text": [
      " 10\n"
     ]
    },
    {
     "data": {
      "text/plain": [
       "3628800"
      ]
     },
     "execution_count": 34,
     "metadata": {},
     "output_type": "execute_result"
    }
   ],
   "source": [
    "fatorial(int(input()))"
   ]
  },
  {
   "cell_type": "markdown",
   "id": "f0a5af96-fb06-4adb-8dda-0115e2ec99ad",
   "metadata": {
    "jp-MarkdownHeadingCollapsed": true
   },
   "source": [
    "### Interação de função"
   ]
  },
  {
   "cell_type": "markdown",
   "id": "37ab9d08-25a5-4810-959a-253fbd5f83b9",
   "metadata": {},
   "source": [
    "function: a função a ser aplicada a cada item do iterável.\n",
    "iterable: um ou mais iteráveis cujos itens serão passados como argumentos para a função."
   ]
  },
  {
   "cell_type": "code",
   "execution_count": null,
   "id": "6a8d1dcb-f067-40bd-8da8-537da492a38f",
   "metadata": {},
   "outputs": [],
   "source": [
    "map(function, iterable, ...)"
   ]
  }
 ],
 "metadata": {
  "kernelspec": {
   "display_name": "Python 3 (ipykernel)",
   "language": "python",
   "name": "python3"
  },
  "language_info": {
   "codemirror_mode": {
    "name": "ipython",
    "version": 3
   },
   "file_extension": ".py",
   "mimetype": "text/x-python",
   "name": "python",
   "nbconvert_exporter": "python",
   "pygments_lexer": "ipython3",
   "version": "3.12.4"
  }
 },
 "nbformat": 4,
 "nbformat_minor": 5
}
