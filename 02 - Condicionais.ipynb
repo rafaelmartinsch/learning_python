{
 "cells": [
  {
   "cell_type": "markdown",
   "id": "77577f0d-adb0-47bd-b7f9-15bb8a028c0f",
   "metadata": {},
   "source": [
    "## Estruturas de Decisão condicional"
   ]
  },
  {
   "cell_type": "markdown",
   "id": "63e63768-8126-493e-b9e1-1a5b3d0eeaeb",
   "metadata": {},
   "source": [
    "#### Desvio \n",
    "O algoritmo segue passos encadeados, mas existes as estruturas de decisão quando para que ele possa tomar desvio caso a condição (sentença) seja verdadeira:\n",
    "Se atente que no python para considerar o que está dentro do if está com um tab."
   ]
  },
  {
   "cell_type": "code",
   "execution_count": 14,
   "id": "ad78c1ed-eddd-47b3-add3-5f6f9cc4f37e",
   "metadata": {},
   "outputs": [
    {
     "name": "stdout",
     "output_type": "stream",
     "text": [
      "O planeta é redondo!\n"
     ]
    }
   ],
   "source": [
    "planetaRedondo = False \n",
    "\n",
    "if planetaRedondo:\n",
    "    print(\"Verdade\")\n",
    "print(\"O planeta é redondo!\")"
   ]
  },
  {
   "cell_type": "markdown",
   "id": "f13f076f-84f7-4469-ae89-5727b65e85b4",
   "metadata": {},
   "source": [
    "#### Decisão Condicional\n",
    "O algoritmo pode seguir um dos dois caminhos, se a condição for verdadeira estra na estrutura do if caso for falsa entra na estrutura do else"
   ]
  },
  {
   "cell_type": "code",
   "execution_count": 18,
   "id": "654f7b05-91ed-4615-b3f6-87f422f15f0d",
   "metadata": {},
   "outputs": [
    {
     "name": "stdout",
     "output_type": "stream",
     "text": [
      "Parabéns, você foi aprovado!\n"
     ]
    }
   ],
   "source": [
    "nota = 6\n",
    "\n",
    "if nota>=6:\n",
    "     print(\"Parabéns, você foi aprovado!\")\n",
    "else:\n",
    "    print(\"Infelizmente não foi dessa vez!\")"
   ]
  },
  {
   "cell_type": "markdown",
   "id": "35768aba-ef91-4a5d-ae48-d40a8ea872f9",
   "metadata": {},
   "source": [
    "#### Multiplas estruturas de decisão\n",
    "O algoritmo pode seguir em apenas um caminho de vários possíveis "
   ]
  },
  {
   "cell_type": "code",
   "execution_count": 2,
   "id": "3b6f1d45-3332-453f-8f47-60323459d16c",
   "metadata": {},
   "outputs": [
    {
     "name": "stdout",
     "output_type": "stream",
     "text": [
      "Aprovado com conceito A\n"
     ]
    }
   ],
   "source": [
    "nota = 9\n",
    "\n",
    "if nota >= 9 and nota<=10:\n",
    "    print(\"Aprovado com conceito A\")\n",
    "elif nota >= 8 and nota<=8.9:\n",
    "    print(\"Aprovado com conceito B\")\n",
    "elif nota >= 7 and nota<=7.9:\n",
    "    print(\"Aprovado com conceito C\")\n",
    "elif nota >= 6 and nota<=6.9:\n",
    "    print(\"Aprovado com conceito D\")\n",
    "elif nota <6:\n",
    "    print(\"Reprovado com conceito F\")\n",
    "else:\n",
    "    print(\"Nota Inválida!\")"
   ]
  },
  {
   "cell_type": "markdown",
   "id": "303fdd67-5628-40cd-ba61-0f1ecb07be69",
   "metadata": {},
   "source": [
    "#### Multiplos Desvios com Escolha"
   ]
  },
  {
   "cell_type": "code",
   "execution_count": 44,
   "id": "e98ee0ff-931f-4d87-83ce-50188fb32ecf",
   "metadata": {},
   "outputs": [
    {
     "name": "stdout",
     "output_type": "stream",
     "text": [
      "Nota Inválida!\n"
     ]
    }
   ],
   "source": [
    "conceito = 'b'\n",
    "\n",
    "match conceito:\n",
    "        case 'A':\n",
    "            print(\"Excelente desempenho\")\n",
    "        case 'B':\n",
    "            print(\"Bom desempenho\")\n",
    "        case 'C':\n",
    "            print(\"Desempenho médio\")\n",
    "        case 'D':\n",
    "            print(\"Desempenho abaixo da média\")\n",
    "        case 'F':\n",
    "            print(\"Desempenho insuficiente\")\n",
    "        case _:\n",
    "            print(\"Nota Inválida!\")\n"
   ]
  }
 ],
 "metadata": {
  "kernelspec": {
   "display_name": "Python 3 (ipykernel)",
   "language": "python",
   "name": "python3"
  },
  "language_info": {
   "codemirror_mode": {
    "name": "ipython",
    "version": 3
   },
   "file_extension": ".py",
   "mimetype": "text/x-python",
   "name": "python",
   "nbconvert_exporter": "python",
   "pygments_lexer": "ipython3",
   "version": "3.12.4"
  }
 },
 "nbformat": 4,
 "nbformat_minor": 5
}
