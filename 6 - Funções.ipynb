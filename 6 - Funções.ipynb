{
 "cells": [
  {
   "cell_type": "markdown",
   "id": "37ab9d08-25a5-4810-959a-253fbd5f83b9",
   "metadata": {},
   "source": [
    "function: a função a ser aplicada a cada item do iterável.\n",
    "iterable: um ou mais iteráveis cujos itens serão passados como argumentos para a função."
   ]
  },
  {
   "cell_type": "code",
   "execution_count": null,
   "id": "6a8d1dcb-f067-40bd-8da8-537da492a38f",
   "metadata": {},
   "outputs": [],
   "source": [
    "map(function, iterable, ...)"
   ]
  }
 ],
 "metadata": {
  "kernelspec": {
   "display_name": "Python 3 (ipykernel)",
   "language": "python",
   "name": "python3"
  },
  "language_info": {
   "codemirror_mode": {
    "name": "ipython",
    "version": 3
   },
   "file_extension": ".py",
   "mimetype": "text/x-python",
   "name": "python",
   "nbconvert_exporter": "python",
   "pygments_lexer": "ipython3",
   "version": "3.12.4"
  }
 },
 "nbformat": 4,
 "nbformat_minor": 5
}
