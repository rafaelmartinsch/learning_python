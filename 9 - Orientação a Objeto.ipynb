{
 "cells": [
  {
   "cell_type": "markdown",
   "id": "78cb34dd-a1c8-4606-9c43-a8886244f49e",
   "metadata": {},
   "source": [
    "### Classes, objetos, atributos e construtores"
   ]
  },
  {
   "cell_type": "markdown",
   "id": "9fbc2cb4-64b7-4141-8912-42a0215d8d1e",
   "metadata": {},
   "source": [
    "**Classe** são representação de um objeto ou ação de um sistema, ex: Pessoa, Produto\n",
    "**Objeto** é qunando uma classe é instânciada e recebe valores referente ao objeto que está sendo armazendado, Ex: Nome:Joao, Idade: 36...\n",
    "**Atributos** são as carateristicas mapeadas pela classe, são variaveis, ex: nome, idade\n",
    "**Construtores** é uma função padrão da classe que recebe como parametro os valores que serão atribuídos para os atributos da classe. "
   ]
  },
  {
   "cell_type": "code",
   "execution_count": 36,
   "id": "66742f22-81e8-4bd1-88de-53f86539f0da",
   "metadata": {},
   "outputs": [],
   "source": [
    "#declarando uma classe, criar um arquivo para cada classe\n",
    "class Aluno:\n",
    "    def __init__(self, nome, matricula, idade): #metodo costrutor, serve para instanciar um objeto passando os valores para os atributos\n",
    "        #atributos\n",
    "        self.nome=nome\n",
    "        self.matricula=matricula\n",
    "        self.idade=idade\n",
    "        \n",
    "    "
   ]
  },
  {
   "cell_type": "markdown",
   "id": "394c03e7-5e67-40bc-91a1-2bfd498aa6e5",
   "metadata": {},
   "source": [
    "Para importar uma classe no arquivo principal:\n",
    "> from Aluno import Aluno"
   ]
  },
  {
   "cell_type": "code",
   "execution_count": 38,
   "id": "b804f00b-e6a0-4684-bed3-a564585f15ed",
   "metadata": {},
   "outputs": [
    {
     "name": "stdout",
     "output_type": "stream",
     "text": [
      "João Dev\n",
      "00192\n"
     ]
    }
   ],
   "source": [
    "#imprimindo atributos do objeto\n",
    "aluno1 =  Aluno(nome=\"João Dev\", matricula=\"00192\", idade=16)\n",
    "print(aluno1.nome)\n",
    "print(aluno1.matricula)"
   ]
  },
  {
   "cell_type": "markdown",
   "id": "f4dff883-5264-48d2-8f5c-837982c2d437",
   "metadata": {},
   "source": [
    "### Metodos"
   ]
  },
  {
   "cell_type": "markdown",
   "id": "17a8e364-6d7e-482a-93c0-076bac15418b",
   "metadata": {},
   "source": [
    "Metodos são funções dentro da classe que realizam operações ou ações com os dados do objeto ex:  atualizar(), enviar_email() exibir_informacoes"
   ]
  },
  {
   "cell_type": "code",
   "execution_count": 65,
   "id": "14db06ab-4979-47ed-b6ad-10c63e3fb6fb",
   "metadata": {},
   "outputs": [],
   "source": [
    "class Professor:\n",
    "    def __init__(self, nome, materias):\n",
    "        self.nome=nome\n",
    "        self.disciplinas=materias\n",
    "\n",
    "    #verifica a disponibilidade de disciplinas de um professor, ele nõa pode ter mais que 3 \n",
    "    def verificaDisponibilidade(self):\n",
    "        if len(self.disciplinas)>=3:\n",
    "            return False;\n",
    "        return True;"
   ]
  },
  {
   "cell_type": "code",
   "execution_count": 63,
   "id": "ff19a975-fead-48d6-9d5e-ece4f3eab4e2",
   "metadata": {},
   "outputs": [
    {
     "name": "stdout",
     "output_type": "stream",
     "text": [
      "['Algoritmos', 'Lógica', 'POO']\n"
     ]
    },
    {
     "data": {
      "text/plain": [
       "False"
      ]
     },
     "execution_count": 63,
     "metadata": {},
     "output_type": "execute_result"
    }
   ],
   "source": [
    "professor1 = Professor(nome=\"Rafael\", materias=[\"Algoritmos\", \"Lógica\", \"POO\"])\n",
    "print(professor1.disciplinas)\n",
    "professor1.verificaDisponibilidade()"
   ]
  },
  {
   "cell_type": "markdown",
   "id": "6b8ee438-ae62-4f81-9049-80be6bd563f9",
   "metadata": {},
   "source": [
    "### Listas de Objetos\n",
    "Criação de listas de objetos"
   ]
  },
  {
   "cell_type": "code",
   "execution_count": 39,
   "id": "154f1e0a-d61b-4287-aebe-ed94e576b0fe",
   "metadata": {},
   "outputs": [],
   "source": [
    "aluno2 = Aluno(nome=\"Mateus Tester\", matricula=\"00198\", idade=18)\n",
    "alunos =  [aluno1, aluno2]"
   ]
  },
  {
   "cell_type": "code",
   "execution_count": 40,
   "id": "cc0409cf-dfce-44f1-9f6e-a6017bd91169",
   "metadata": {},
   "outputs": [
    {
     "name": "stdout",
     "output_type": "stream",
     "text": [
      "João Dev\n",
      "Mateus Tester\n"
     ]
    }
   ],
   "source": [
    "print(alunos[0].nome)\n",
    "print(alunos[1].nome)"
   ]
  },
  {
   "cell_type": "markdown",
   "id": "7e088115-8703-40f9-a137-041db1491d73",
   "metadata": {},
   "source": [
    "Ou podemos iterar a lista com um for"
   ]
  },
  {
   "cell_type": "code",
   "execution_count": 41,
   "id": "7bb760f8-6dc8-43e2-938b-4f68fa8eae55",
   "metadata": {},
   "outputs": [
    {
     "name": "stdout",
     "output_type": "stream",
     "text": [
      "João Dev\n",
      "00192\n",
      "Mateus Tester\n",
      "00198\n"
     ]
    }
   ],
   "source": [
    "for aluno in alunos:\n",
    "    print(aluno.nome)\n",
    "    print(aluno.matricula)"
   ]
  },
  {
   "cell_type": "markdown",
   "id": "34ac729d-739c-4095-982b-a179530da808",
   "metadata": {},
   "source": [
    "### Encapsulamento"
   ]
  },
  {
   "cell_type": "markdown",
   "id": "f11ee62e-7daf-4d4e-b95f-a254ae4d1174",
   "metadata": {},
   "source": [
    "### Herança"
   ]
  },
  {
   "cell_type": "markdown",
   "id": "0f5ca3ea-40c5-4cf5-aa4c-ca276c8388c3",
   "metadata": {},
   "source": [
    "### Interface"
   ]
  },
  {
   "cell_type": "markdown",
   "id": "901b163e-7c95-4697-bbae-1fb7669d4a3f",
   "metadata": {},
   "source": [
    "### Polimorfismo"
   ]
  },
  {
   "cell_type": "code",
   "execution_count": null,
   "id": "b3d913d1-d2e3-4f58-ab65-6d7f0a70be7b",
   "metadata": {},
   "outputs": [],
   "source": []
  }
 ],
 "metadata": {
  "kernelspec": {
   "display_name": "Python 3 (ipykernel)",
   "language": "python",
   "name": "python3"
  },
  "language_info": {
   "codemirror_mode": {
    "name": "ipython",
    "version": 3
   },
   "file_extension": ".py",
   "mimetype": "text/x-python",
   "name": "python",
   "nbconvert_exporter": "python",
   "pygments_lexer": "ipython3",
   "version": "3.12.4"
  }
 },
 "nbformat": 4,
 "nbformat_minor": 5
}
