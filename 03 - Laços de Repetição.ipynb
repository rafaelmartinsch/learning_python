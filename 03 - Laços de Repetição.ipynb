{
 "cells": [
  {
   "cell_type": "markdown",
   "id": "7b7a39b8-40d5-48af-a4c1-4f7398f68ab7",
   "metadata": {},
   "source": [
    "# Laços de Repetições\n"
   ]
  },
  {
   "cell_type": "markdown",
   "id": "94c52784-9c04-42ce-b2c5-e29589be1fb5",
   "metadata": {
    "jp-MarkdownHeadingCollapsed": true
   },
   "source": [
    "## while (enquanto)"
   ]
  },
  {
   "cell_type": "markdown",
   "id": "586b1074-08ac-42c4-bafb-5f70ce5d332b",
   "metadata": {},
   "source": [
    "- Enquanto a condição for verdadeira ele executa o bloco de código\n",
    "- Só entra no while se for verdade\n",
    "- Utilizar quando não sei quantas vezes vai se repetir, tenho que repetir até que algo aconteça, um estado mude, uma condição seja aceita."
   ]
  },
  {
   "cell_type": "code",
   "execution_count": 1,
   "id": "e3bc930b-609e-4248-baa1-98e01619b8bc",
   "metadata": {},
   "outputs": [
    {
     "name": "stdout",
     "output_type": "stream",
     "text": [
      "0\n",
      "1\n",
      "2\n",
      "3\n",
      "4\n",
      "Acabou!\n"
     ]
    }
   ],
   "source": [
    "contador = 0\n",
    "while contador < 5:\n",
    "    print(contador)\n",
    "    contador += 1\n",
    "print(\"Acabou!\")"
   ]
  },
  {
   "cell_type": "markdown",
   "id": "ebf8139a-605a-4b5d-8a3f-8827ff8b882c",
   "metadata": {
    "jp-MarkdownHeadingCollapsed": true
   },
   "source": [
    "## break"
   ]
  },
  {
   "cell_type": "markdown",
   "id": "a5ce900c-4c90-4871-80a9-7932704cd6d2",
   "metadata": {},
   "source": [
    "comando para abortar um loop"
   ]
  },
  {
   "cell_type": "code",
   "execution_count": 2,
   "id": "715323dd-3080-4a7f-b369-e4b4d05f4849",
   "metadata": {},
   "outputs": [
    {
     "name": "stdout",
     "output_type": "stream",
     "text": [
      "0\n",
      "1\n",
      "2\n",
      "3\n",
      "4\n",
      "5\n",
      "Acabou\n"
     ]
    }
   ],
   "source": [
    "contador = 0\n",
    "while True:\n",
    "    print(contador)\n",
    "    contador += 1\n",
    "    if contador>5: \n",
    "        break\n",
    "print(\"Acabou\")"
   ]
  },
  {
   "cell_type": "markdown",
   "id": "32321e50-89c7-4b9b-abe1-5b7f2a5cf009",
   "metadata": {
    "jp-MarkdownHeadingCollapsed": true
   },
   "source": [
    "## for"
   ]
  },
  {
   "cell_type": "markdown",
   "id": "f9349a8f-eb3a-4beb-a4d9-1d216d862e71",
   "metadata": {},
   "source": [
    "- Repete o trecho de código em quantidades preestabelecida de vezes;\n",
    "- Percorre uma sequência, vetor ou lista;\n",
    "- Utilizar quando se sabe quantas vezes precisa exeecutar;"
   ]
  },
  {
   "cell_type": "code",
   "execution_count": 7,
   "id": "2c8a3197-78ba-47ba-821a-d5e03dec99c3",
   "metadata": {},
   "outputs": [
    {
     "name": "stdout",
     "output_type": "stream",
     "text": [
      "0\n",
      "1\n",
      "2\n",
      "3\n",
      "4\n"
     ]
    }
   ],
   "source": [
    "for i in range(5):  # range(5) gera uma sequência de 0 a 4\n",
    "    print(i)"
   ]
  }
 ],
 "metadata": {
  "kernelspec": {
   "display_name": "Python 3 (ipykernel)",
   "language": "python",
   "name": "python3"
  },
  "language_info": {
   "codemirror_mode": {
    "name": "ipython",
    "version": 3
   },
   "file_extension": ".py",
   "mimetype": "text/x-python",
   "name": "python",
   "nbconvert_exporter": "python",
   "pygments_lexer": "ipython3",
   "version": "3.12.4"
  }
 },
 "nbformat": 4,
 "nbformat_minor": 5
}
